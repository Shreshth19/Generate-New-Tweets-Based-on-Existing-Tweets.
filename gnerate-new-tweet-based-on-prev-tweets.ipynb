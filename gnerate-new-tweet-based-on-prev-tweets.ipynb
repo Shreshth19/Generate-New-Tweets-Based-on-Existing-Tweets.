{
 "cells": [
  {
   "cell_type": "code",
   "execution_count": 1,
   "id": "a7f4b539",
   "metadata": {
    "_cell_guid": "b1076dfc-b9ad-4769-8c92-a6c4dae69d19",
    "_uuid": "8f2839f25d086af736a60e9eeb907d3b93b6e0e5",
    "execution": {
     "iopub.execute_input": "2023-05-14T15:40:39.313719Z",
     "iopub.status.busy": "2023-05-14T15:40:39.313323Z",
     "iopub.status.idle": "2023-05-14T15:40:39.333883Z",
     "shell.execute_reply": "2023-05-14T15:40:39.332437Z"
    },
    "papermill": {
     "duration": 0.035549,
     "end_time": "2023-05-14T15:40:39.336202",
     "exception": false,
     "start_time": "2023-05-14T15:40:39.300653",
     "status": "completed"
    },
    "tags": []
   },
   "outputs": [
    {
     "name": "stdout",
     "output_type": "stream",
     "text": [
      "/kaggle/input/sentiment140/training.1600000.processed.noemoticon.csv\n"
     ]
    }
   ],
   "source": [
    "# This Python 3 environment comes with many helpful analytics libraries installed\n",
    "# It is defined by the kaggle/python Docker image: https://github.com/kaggle/docker-python\n",
    "# For example, here's several helpful packages to load\n",
    "\n",
    "import numpy as np # linear algebra\n",
    "import pandas as pd # data processing, CSV file I/O (e.g. pd.read_csv)\n",
    "\n",
    "# Input data files are available in the read-only \"../input/\" directory\n",
    "# For example, running this (by clicking run or pressing Shift+Enter) will list all files under the input directory\n",
    "\n",
    "import os\n",
    "for dirname, _, filenames in os.walk('/kaggle/input'):\n",
    "    for filename in filenames:\n",
    "        print(os.path.join(dirname, filename))\n",
    "\n",
    "# You can write up to 20GB to the current directory (/kaggle/working/) that gets preserved as output when you create a version using \"Save & Run All\" \n",
    "# You can also write temporary files to /kaggle/temp/, but they won't be saved outside of the current session"
   ]
  },
  {
   "cell_type": "code",
   "execution_count": 2,
   "id": "b54fc8ab",
   "metadata": {
    "execution": {
     "iopub.execute_input": "2023-05-14T15:40:39.359237Z",
     "iopub.status.busy": "2023-05-14T15:40:39.358808Z",
     "iopub.status.idle": "2023-05-14T15:40:41.235025Z",
     "shell.execute_reply": "2023-05-14T15:40:41.233855Z"
    },
    "papermill": {
     "duration": 1.890488,
     "end_time": "2023-05-14T15:40:41.237601",
     "exception": false,
     "start_time": "2023-05-14T15:40:39.347113",
     "status": "completed"
    },
    "tags": []
   },
   "outputs": [
    {
     "name": "stderr",
     "output_type": "stream",
     "text": [
      "/opt/conda/lib/python3.10/site-packages/scipy/__init__.py:146: UserWarning: A NumPy version >=1.16.5 and <1.23.0 is required for this version of SciPy (detected version 1.23.5\n",
      "  warnings.warn(f\"A NumPy version >={np_minversion} and <{np_maxversion}\"\n"
     ]
    }
   ],
   "source": [
    "import pandas as pd\n",
    "import nltk\n",
    "from nltk.corpus import stopwords\n",
    "import string\n",
    "from nltk.stem import WordNetLemmatizer\n",
    "from nltk.corpus import wordnet"
   ]
  },
  {
   "cell_type": "code",
   "execution_count": 3,
   "id": "9c4110cc",
   "metadata": {
    "execution": {
     "iopub.execute_input": "2023-05-14T15:40:41.261110Z",
     "iopub.status.busy": "2023-05-14T15:40:41.260105Z",
     "iopub.status.idle": "2023-05-14T15:40:41.271788Z",
     "shell.execute_reply": "2023-05-14T15:40:41.270763Z"
    },
    "papermill": {
     "duration": 0.02598,
     "end_time": "2023-05-14T15:40:41.274268",
     "exception": false,
     "start_time": "2023-05-14T15:40:41.248288",
     "status": "completed"
    },
    "tags": []
   },
   "outputs": [],
   "source": [
    "stops = set(stopwords.words('english'))\n",
    "punc = list(string.punctuation)\n",
    "stops.update(punc)"
   ]
  },
  {
   "cell_type": "code",
   "execution_count": 4,
   "id": "dd36188f",
   "metadata": {
    "execution": {
     "iopub.execute_input": "2023-05-14T15:40:41.297816Z",
     "iopub.status.busy": "2023-05-14T15:40:41.296843Z",
     "iopub.status.idle": "2023-05-14T15:40:48.243050Z",
     "shell.execute_reply": "2023-05-14T15:40:48.241921Z"
    },
    "papermill": {
     "duration": 6.960948,
     "end_time": "2023-05-14T15:40:48.245953",
     "exception": false,
     "start_time": "2023-05-14T15:40:41.285005",
     "status": "completed"
    },
    "tags": []
   },
   "outputs": [],
   "source": [
    "df = pd.read_csv('/kaggle/input/sentiment140/training.1600000.processed.noemoticon.csv',header= None, encoding='ISO-8859-1')"
   ]
  },
  {
   "cell_type": "code",
   "execution_count": 5,
   "id": "c01c3c6c",
   "metadata": {
    "execution": {
     "iopub.execute_input": "2023-05-14T15:40:48.269140Z",
     "iopub.status.busy": "2023-05-14T15:40:48.268737Z",
     "iopub.status.idle": "2023-05-14T15:40:48.305029Z",
     "shell.execute_reply": "2023-05-14T15:40:48.303953Z"
    },
    "papermill": {
     "duration": 0.051106,
     "end_time": "2023-05-14T15:40:48.307790",
     "exception": false,
     "start_time": "2023-05-14T15:40:48.256684",
     "status": "completed"
    },
    "tags": []
   },
   "outputs": [
    {
     "data": {
      "text/html": [
       "<div>\n",
       "<style scoped>\n",
       "    .dataframe tbody tr th:only-of-type {\n",
       "        vertical-align: middle;\n",
       "    }\n",
       "\n",
       "    .dataframe tbody tr th {\n",
       "        vertical-align: top;\n",
       "    }\n",
       "\n",
       "    .dataframe thead th {\n",
       "        text-align: right;\n",
       "    }\n",
       "</style>\n",
       "<table border=\"1\" class=\"dataframe\">\n",
       "  <thead>\n",
       "    <tr style=\"text-align: right;\">\n",
       "      <th></th>\n",
       "      <th>0</th>\n",
       "      <th>1</th>\n",
       "      <th>2</th>\n",
       "      <th>3</th>\n",
       "      <th>4</th>\n",
       "      <th>5</th>\n",
       "    </tr>\n",
       "  </thead>\n",
       "  <tbody>\n",
       "    <tr>\n",
       "      <th>0</th>\n",
       "      <td>0</td>\n",
       "      <td>1467810369</td>\n",
       "      <td>Mon Apr 06 22:19:45 PDT 2009</td>\n",
       "      <td>NO_QUERY</td>\n",
       "      <td>_TheSpecialOne_</td>\n",
       "      <td>@switchfoot http://twitpic.com/2y1zl - Awww, t...</td>\n",
       "    </tr>\n",
       "    <tr>\n",
       "      <th>1</th>\n",
       "      <td>0</td>\n",
       "      <td>1467810672</td>\n",
       "      <td>Mon Apr 06 22:19:49 PDT 2009</td>\n",
       "      <td>NO_QUERY</td>\n",
       "      <td>scotthamilton</td>\n",
       "      <td>is upset that he can't update his Facebook by ...</td>\n",
       "    </tr>\n",
       "    <tr>\n",
       "      <th>2</th>\n",
       "      <td>0</td>\n",
       "      <td>1467810917</td>\n",
       "      <td>Mon Apr 06 22:19:53 PDT 2009</td>\n",
       "      <td>NO_QUERY</td>\n",
       "      <td>mattycus</td>\n",
       "      <td>@Kenichan I dived many times for the ball. Man...</td>\n",
       "    </tr>\n",
       "    <tr>\n",
       "      <th>3</th>\n",
       "      <td>0</td>\n",
       "      <td>1467811184</td>\n",
       "      <td>Mon Apr 06 22:19:57 PDT 2009</td>\n",
       "      <td>NO_QUERY</td>\n",
       "      <td>ElleCTF</td>\n",
       "      <td>my whole body feels itchy and like its on fire</td>\n",
       "    </tr>\n",
       "    <tr>\n",
       "      <th>4</th>\n",
       "      <td>0</td>\n",
       "      <td>1467811193</td>\n",
       "      <td>Mon Apr 06 22:19:57 PDT 2009</td>\n",
       "      <td>NO_QUERY</td>\n",
       "      <td>Karoli</td>\n",
       "      <td>@nationwideclass no, it's not behaving at all....</td>\n",
       "    </tr>\n",
       "    <tr>\n",
       "      <th>5</th>\n",
       "      <td>0</td>\n",
       "      <td>1467811372</td>\n",
       "      <td>Mon Apr 06 22:20:00 PDT 2009</td>\n",
       "      <td>NO_QUERY</td>\n",
       "      <td>joy_wolf</td>\n",
       "      <td>@Kwesidei not the whole crew</td>\n",
       "    </tr>\n",
       "    <tr>\n",
       "      <th>6</th>\n",
       "      <td>0</td>\n",
       "      <td>1467811592</td>\n",
       "      <td>Mon Apr 06 22:20:03 PDT 2009</td>\n",
       "      <td>NO_QUERY</td>\n",
       "      <td>mybirch</td>\n",
       "      <td>Need a hug</td>\n",
       "    </tr>\n",
       "    <tr>\n",
       "      <th>7</th>\n",
       "      <td>0</td>\n",
       "      <td>1467811594</td>\n",
       "      <td>Mon Apr 06 22:20:03 PDT 2009</td>\n",
       "      <td>NO_QUERY</td>\n",
       "      <td>coZZ</td>\n",
       "      <td>@LOLTrish hey  long time no see! Yes.. Rains a...</td>\n",
       "    </tr>\n",
       "    <tr>\n",
       "      <th>8</th>\n",
       "      <td>0</td>\n",
       "      <td>1467811795</td>\n",
       "      <td>Mon Apr 06 22:20:05 PDT 2009</td>\n",
       "      <td>NO_QUERY</td>\n",
       "      <td>2Hood4Hollywood</td>\n",
       "      <td>@Tatiana_K nope they didn't have it</td>\n",
       "    </tr>\n",
       "    <tr>\n",
       "      <th>9</th>\n",
       "      <td>0</td>\n",
       "      <td>1467812025</td>\n",
       "      <td>Mon Apr 06 22:20:09 PDT 2009</td>\n",
       "      <td>NO_QUERY</td>\n",
       "      <td>mimismo</td>\n",
       "      <td>@twittera que me muera ?</td>\n",
       "    </tr>\n",
       "  </tbody>\n",
       "</table>\n",
       "</div>"
      ],
      "text/plain": [
       "   0           1                             2         3                4  \\\n",
       "0  0  1467810369  Mon Apr 06 22:19:45 PDT 2009  NO_QUERY  _TheSpecialOne_   \n",
       "1  0  1467810672  Mon Apr 06 22:19:49 PDT 2009  NO_QUERY    scotthamilton   \n",
       "2  0  1467810917  Mon Apr 06 22:19:53 PDT 2009  NO_QUERY         mattycus   \n",
       "3  0  1467811184  Mon Apr 06 22:19:57 PDT 2009  NO_QUERY          ElleCTF   \n",
       "4  0  1467811193  Mon Apr 06 22:19:57 PDT 2009  NO_QUERY           Karoli   \n",
       "5  0  1467811372  Mon Apr 06 22:20:00 PDT 2009  NO_QUERY         joy_wolf   \n",
       "6  0  1467811592  Mon Apr 06 22:20:03 PDT 2009  NO_QUERY          mybirch   \n",
       "7  0  1467811594  Mon Apr 06 22:20:03 PDT 2009  NO_QUERY             coZZ   \n",
       "8  0  1467811795  Mon Apr 06 22:20:05 PDT 2009  NO_QUERY  2Hood4Hollywood   \n",
       "9  0  1467812025  Mon Apr 06 22:20:09 PDT 2009  NO_QUERY          mimismo   \n",
       "\n",
       "                                                   5  \n",
       "0  @switchfoot http://twitpic.com/2y1zl - Awww, t...  \n",
       "1  is upset that he can't update his Facebook by ...  \n",
       "2  @Kenichan I dived many times for the ball. Man...  \n",
       "3    my whole body feels itchy and like its on fire   \n",
       "4  @nationwideclass no, it's not behaving at all....  \n",
       "5                      @Kwesidei not the whole crew   \n",
       "6                                        Need a hug   \n",
       "7  @LOLTrish hey  long time no see! Yes.. Rains a...  \n",
       "8               @Tatiana_K nope they didn't have it   \n",
       "9                          @twittera que me muera ?   "
      ]
     },
     "execution_count": 5,
     "metadata": {},
     "output_type": "execute_result"
    }
   ],
   "source": [
    "df.head(10)"
   ]
  },
  {
   "cell_type": "code",
   "execution_count": 6,
   "id": "d99eee42",
   "metadata": {
    "execution": {
     "iopub.execute_input": "2023-05-14T15:40:48.331943Z",
     "iopub.status.busy": "2023-05-14T15:40:48.331252Z",
     "iopub.status.idle": "2023-05-14T15:40:48.345533Z",
     "shell.execute_reply": "2023-05-14T15:40:48.344426Z"
    },
    "papermill": {
     "duration": 0.029054,
     "end_time": "2023-05-14T15:40:48.347903",
     "exception": false,
     "start_time": "2023-05-14T15:40:48.318849",
     "status": "completed"
    },
    "tags": []
   },
   "outputs": [
    {
     "data": {
      "text/html": [
       "<div>\n",
       "<style scoped>\n",
       "    .dataframe tbody tr th:only-of-type {\n",
       "        vertical-align: middle;\n",
       "    }\n",
       "\n",
       "    .dataframe tbody tr th {\n",
       "        vertical-align: top;\n",
       "    }\n",
       "\n",
       "    .dataframe thead th {\n",
       "        text-align: right;\n",
       "    }\n",
       "</style>\n",
       "<table border=\"1\" class=\"dataframe\">\n",
       "  <thead>\n",
       "    <tr style=\"text-align: right;\">\n",
       "      <th></th>\n",
       "      <th>y</th>\n",
       "      <th>ID</th>\n",
       "      <th>date</th>\n",
       "      <th>query</th>\n",
       "      <th>name</th>\n",
       "      <th>tweet</th>\n",
       "    </tr>\n",
       "  </thead>\n",
       "  <tbody>\n",
       "    <tr>\n",
       "      <th>0</th>\n",
       "      <td>0</td>\n",
       "      <td>1467810369</td>\n",
       "      <td>Mon Apr 06 22:19:45 PDT 2009</td>\n",
       "      <td>NO_QUERY</td>\n",
       "      <td>_TheSpecialOne_</td>\n",
       "      <td>@switchfoot http://twitpic.com/2y1zl - Awww, t...</td>\n",
       "    </tr>\n",
       "    <tr>\n",
       "      <th>1</th>\n",
       "      <td>0</td>\n",
       "      <td>1467810672</td>\n",
       "      <td>Mon Apr 06 22:19:49 PDT 2009</td>\n",
       "      <td>NO_QUERY</td>\n",
       "      <td>scotthamilton</td>\n",
       "      <td>is upset that he can't update his Facebook by ...</td>\n",
       "    </tr>\n",
       "    <tr>\n",
       "      <th>2</th>\n",
       "      <td>0</td>\n",
       "      <td>1467810917</td>\n",
       "      <td>Mon Apr 06 22:19:53 PDT 2009</td>\n",
       "      <td>NO_QUERY</td>\n",
       "      <td>mattycus</td>\n",
       "      <td>@Kenichan I dived many times for the ball. Man...</td>\n",
       "    </tr>\n",
       "    <tr>\n",
       "      <th>3</th>\n",
       "      <td>0</td>\n",
       "      <td>1467811184</td>\n",
       "      <td>Mon Apr 06 22:19:57 PDT 2009</td>\n",
       "      <td>NO_QUERY</td>\n",
       "      <td>ElleCTF</td>\n",
       "      <td>my whole body feels itchy and like its on fire</td>\n",
       "    </tr>\n",
       "    <tr>\n",
       "      <th>4</th>\n",
       "      <td>0</td>\n",
       "      <td>1467811193</td>\n",
       "      <td>Mon Apr 06 22:19:57 PDT 2009</td>\n",
       "      <td>NO_QUERY</td>\n",
       "      <td>Karoli</td>\n",
       "      <td>@nationwideclass no, it's not behaving at all....</td>\n",
       "    </tr>\n",
       "    <tr>\n",
       "      <th>5</th>\n",
       "      <td>0</td>\n",
       "      <td>1467811372</td>\n",
       "      <td>Mon Apr 06 22:20:00 PDT 2009</td>\n",
       "      <td>NO_QUERY</td>\n",
       "      <td>joy_wolf</td>\n",
       "      <td>@Kwesidei not the whole crew</td>\n",
       "    </tr>\n",
       "    <tr>\n",
       "      <th>6</th>\n",
       "      <td>0</td>\n",
       "      <td>1467811592</td>\n",
       "      <td>Mon Apr 06 22:20:03 PDT 2009</td>\n",
       "      <td>NO_QUERY</td>\n",
       "      <td>mybirch</td>\n",
       "      <td>Need a hug</td>\n",
       "    </tr>\n",
       "    <tr>\n",
       "      <th>7</th>\n",
       "      <td>0</td>\n",
       "      <td>1467811594</td>\n",
       "      <td>Mon Apr 06 22:20:03 PDT 2009</td>\n",
       "      <td>NO_QUERY</td>\n",
       "      <td>coZZ</td>\n",
       "      <td>@LOLTrish hey  long time no see! Yes.. Rains a...</td>\n",
       "    </tr>\n",
       "    <tr>\n",
       "      <th>8</th>\n",
       "      <td>0</td>\n",
       "      <td>1467811795</td>\n",
       "      <td>Mon Apr 06 22:20:05 PDT 2009</td>\n",
       "      <td>NO_QUERY</td>\n",
       "      <td>2Hood4Hollywood</td>\n",
       "      <td>@Tatiana_K nope they didn't have it</td>\n",
       "    </tr>\n",
       "    <tr>\n",
       "      <th>9</th>\n",
       "      <td>0</td>\n",
       "      <td>1467812025</td>\n",
       "      <td>Mon Apr 06 22:20:09 PDT 2009</td>\n",
       "      <td>NO_QUERY</td>\n",
       "      <td>mimismo</td>\n",
       "      <td>@twittera que me muera ?</td>\n",
       "    </tr>\n",
       "  </tbody>\n",
       "</table>\n",
       "</div>"
      ],
      "text/plain": [
       "   y          ID                          date     query             name  \\\n",
       "0  0  1467810369  Mon Apr 06 22:19:45 PDT 2009  NO_QUERY  _TheSpecialOne_   \n",
       "1  0  1467810672  Mon Apr 06 22:19:49 PDT 2009  NO_QUERY    scotthamilton   \n",
       "2  0  1467810917  Mon Apr 06 22:19:53 PDT 2009  NO_QUERY         mattycus   \n",
       "3  0  1467811184  Mon Apr 06 22:19:57 PDT 2009  NO_QUERY          ElleCTF   \n",
       "4  0  1467811193  Mon Apr 06 22:19:57 PDT 2009  NO_QUERY           Karoli   \n",
       "5  0  1467811372  Mon Apr 06 22:20:00 PDT 2009  NO_QUERY         joy_wolf   \n",
       "6  0  1467811592  Mon Apr 06 22:20:03 PDT 2009  NO_QUERY          mybirch   \n",
       "7  0  1467811594  Mon Apr 06 22:20:03 PDT 2009  NO_QUERY             coZZ   \n",
       "8  0  1467811795  Mon Apr 06 22:20:05 PDT 2009  NO_QUERY  2Hood4Hollywood   \n",
       "9  0  1467812025  Mon Apr 06 22:20:09 PDT 2009  NO_QUERY          mimismo   \n",
       "\n",
       "                                               tweet  \n",
       "0  @switchfoot http://twitpic.com/2y1zl - Awww, t...  \n",
       "1  is upset that he can't update his Facebook by ...  \n",
       "2  @Kenichan I dived many times for the ball. Man...  \n",
       "3    my whole body feels itchy and like its on fire   \n",
       "4  @nationwideclass no, it's not behaving at all....  \n",
       "5                      @Kwesidei not the whole crew   \n",
       "6                                        Need a hug   \n",
       "7  @LOLTrish hey  long time no see! Yes.. Rains a...  \n",
       "8               @Tatiana_K nope they didn't have it   \n",
       "9                          @twittera que me muera ?   "
      ]
     },
     "execution_count": 6,
     "metadata": {},
     "output_type": "execute_result"
    }
   ],
   "source": [
    "df.columns = ['y','ID','date','query' , 'name', 'tweet']\n",
    "df.head(10)"
   ]
  },
  {
   "cell_type": "code",
   "execution_count": 7,
   "id": "f29ad0ac",
   "metadata": {
    "execution": {
     "iopub.execute_input": "2023-05-14T15:40:48.372373Z",
     "iopub.status.busy": "2023-05-14T15:40:48.371586Z",
     "iopub.status.idle": "2023-05-14T15:40:48.377966Z",
     "shell.execute_reply": "2023-05-14T15:40:48.377187Z"
    },
    "papermill": {
     "duration": 0.021434,
     "end_time": "2023-05-14T15:40:48.380334",
     "exception": false,
     "start_time": "2023-05-14T15:40:48.358900",
     "status": "completed"
    },
    "tags": []
   },
   "outputs": [],
   "source": [
    "def get_simple_pos(tag):\n",
    "    if tag.startswith('J'):\n",
    "        return wordnet.ADJ\n",
    "    elif tag.startswith('V'):\n",
    "        return wordnet.VERB\n",
    "    elif tag.startswith('N'):\n",
    "        return wordnet.NOUN\n",
    "    elif tag.startswith('R'):\n",
    "        return wordnet.ADV\n",
    "    else:\n",
    "        return wordnet.NOUN"
   ]
  },
  {
   "cell_type": "code",
   "execution_count": 8,
   "id": "8ef0f24c",
   "metadata": {
    "execution": {
     "iopub.execute_input": "2023-05-14T15:40:48.405121Z",
     "iopub.status.busy": "2023-05-14T15:40:48.404328Z",
     "iopub.status.idle": "2023-05-14T15:40:48.409684Z",
     "shell.execute_reply": "2023-05-14T15:40:48.408586Z"
    },
    "papermill": {
     "duration": 0.020808,
     "end_time": "2023-05-14T15:40:48.412307",
     "exception": false,
     "start_time": "2023-05-14T15:40:48.391499",
     "status": "completed"
    },
    "tags": []
   },
   "outputs": [],
   "source": [
    "lemmatizer = WordNetLemmatizer()"
   ]
  },
  {
   "cell_type": "code",
   "execution_count": 9,
   "id": "c97bcf98",
   "metadata": {
    "execution": {
     "iopub.execute_input": "2023-05-14T15:40:48.436200Z",
     "iopub.status.busy": "2023-05-14T15:40:48.435810Z",
     "iopub.status.idle": "2023-05-14T15:40:48.440848Z",
     "shell.execute_reply": "2023-05-14T15:40:48.439574Z"
    },
    "papermill": {
     "duration": 0.020539,
     "end_time": "2023-05-14T15:40:48.443792",
     "exception": false,
     "start_time": "2023-05-14T15:40:48.423253",
     "status": "completed"
    },
    "tags": []
   },
   "outputs": [],
   "source": [
    "import re\n",
    "from nltk import pos_tag"
   ]
  },
  {
   "cell_type": "code",
   "execution_count": 10,
   "id": "c2b0c673",
   "metadata": {
    "execution": {
     "iopub.execute_input": "2023-05-14T15:40:48.468479Z",
     "iopub.status.busy": "2023-05-14T15:40:48.467336Z",
     "iopub.status.idle": "2023-05-14T15:40:49.946173Z",
     "shell.execute_reply": "2023-05-14T15:40:49.944775Z"
    },
    "papermill": {
     "duration": 1.494282,
     "end_time": "2023-05-14T15:40:49.949100",
     "exception": false,
     "start_time": "2023-05-14T15:40:48.454818",
     "status": "completed"
    },
    "tags": []
   },
   "outputs": [
    {
     "name": "stdout",
     "output_type": "stream",
     "text": [
      "Archive:  /usr/share/nltk_data/corpora/wordnet.zip\r\n",
      "   creating: /usr/share/nltk_data/corpora/wordnet/\r\n",
      "  inflating: /usr/share/nltk_data/corpora/wordnet/lexnames  \r\n",
      "  inflating: /usr/share/nltk_data/corpora/wordnet/data.verb  \r\n",
      "  inflating: /usr/share/nltk_data/corpora/wordnet/index.adv  \r\n",
      "  inflating: /usr/share/nltk_data/corpora/wordnet/adv.exc  \r\n",
      "  inflating: /usr/share/nltk_data/corpora/wordnet/index.verb  \r\n",
      "  inflating: /usr/share/nltk_data/corpora/wordnet/cntlist.rev  \r\n",
      "  inflating: /usr/share/nltk_data/corpora/wordnet/data.adj  \r\n",
      "  inflating: /usr/share/nltk_data/corpora/wordnet/index.adj  \r\n",
      "  inflating: /usr/share/nltk_data/corpora/wordnet/LICENSE  \r\n",
      "  inflating: /usr/share/nltk_data/corpora/wordnet/citation.bib  \r\n",
      "  inflating: /usr/share/nltk_data/corpora/wordnet/noun.exc  \r\n",
      "  inflating: /usr/share/nltk_data/corpora/wordnet/verb.exc  \r\n",
      "  inflating: /usr/share/nltk_data/corpora/wordnet/README  \r\n",
      "  inflating: /usr/share/nltk_data/corpora/wordnet/index.sense  \r\n",
      "  inflating: /usr/share/nltk_data/corpora/wordnet/data.noun  \r\n",
      "  inflating: /usr/share/nltk_data/corpora/wordnet/data.adv  \r\n",
      "  inflating: /usr/share/nltk_data/corpora/wordnet/index.noun  \r\n",
      "  inflating: /usr/share/nltk_data/corpora/wordnet/adj.exc  \r\n"
     ]
    }
   ],
   "source": [
    "!unzip /usr/share/nltk_data/corpora/wordnet.zip -d /usr/share/nltk_data/corpora/"
   ]
  },
  {
   "cell_type": "code",
   "execution_count": 11,
   "id": "34be6ff1",
   "metadata": {
    "execution": {
     "iopub.execute_input": "2023-05-14T15:40:49.974505Z",
     "iopub.status.busy": "2023-05-14T15:40:49.974069Z",
     "iopub.status.idle": "2023-05-14T15:40:49.981850Z",
     "shell.execute_reply": "2023-05-14T15:40:49.980677Z"
    },
    "papermill": {
     "duration": 0.023322,
     "end_time": "2023-05-14T15:40:49.984119",
     "exception": false,
     "start_time": "2023-05-14T15:40:49.960797",
     "status": "completed"
    },
    "tags": []
   },
   "outputs": [],
   "source": [
    "def get_clean(w):\n",
    "    clean = []\n",
    "    w = re.sub(r'http\\S+', '', w) \n",
    "    w = re.sub(r'@[A-Za-z0-9]+', '', w) \n",
    "    w = re.sub(r'#', '', w)\n",
    "    if w.lower() not in stops:\n",
    "        pos = pos_tag([w])\n",
    "        w = ' '.join([lemmatizer.lemmatize(i ) for i in w.split()])\n",
    "    \n",
    "    return w"
   ]
  },
  {
   "cell_type": "code",
   "execution_count": 12,
   "id": "e78d8c3f",
   "metadata": {
    "execution": {
     "iopub.execute_input": "2023-05-14T15:40:50.009483Z",
     "iopub.status.busy": "2023-05-14T15:40:50.009058Z",
     "iopub.status.idle": "2023-05-14T15:49:15.908292Z",
     "shell.execute_reply": "2023-05-14T15:49:15.907210Z"
    },
    "papermill": {
     "duration": 505.915973,
     "end_time": "2023-05-14T15:49:15.911661",
     "exception": false,
     "start_time": "2023-05-14T15:40:49.995688",
     "status": "completed"
    },
    "tags": []
   },
   "outputs": [],
   "source": [
    "df['tweet']=df['tweet'].apply(get_clean)"
   ]
  },
  {
   "cell_type": "code",
   "execution_count": 13,
   "id": "a8af9acd",
   "metadata": {
    "execution": {
     "iopub.execute_input": "2023-05-14T15:49:15.937187Z",
     "iopub.status.busy": "2023-05-14T15:49:15.936809Z",
     "iopub.status.idle": "2023-05-14T15:49:15.951455Z",
     "shell.execute_reply": "2023-05-14T15:49:15.950297Z"
    },
    "papermill": {
     "duration": 0.030586,
     "end_time": "2023-05-14T15:49:15.954360",
     "exception": false,
     "start_time": "2023-05-14T15:49:15.923774",
     "status": "completed"
    },
    "tags": []
   },
   "outputs": [
    {
     "data": {
      "text/html": [
       "<div>\n",
       "<style scoped>\n",
       "    .dataframe tbody tr th:only-of-type {\n",
       "        vertical-align: middle;\n",
       "    }\n",
       "\n",
       "    .dataframe tbody tr th {\n",
       "        vertical-align: top;\n",
       "    }\n",
       "\n",
       "    .dataframe thead th {\n",
       "        text-align: right;\n",
       "    }\n",
       "</style>\n",
       "<table border=\"1\" class=\"dataframe\">\n",
       "  <thead>\n",
       "    <tr style=\"text-align: right;\">\n",
       "      <th></th>\n",
       "      <th>y</th>\n",
       "      <th>ID</th>\n",
       "      <th>date</th>\n",
       "      <th>query</th>\n",
       "      <th>name</th>\n",
       "      <th>tweet</th>\n",
       "    </tr>\n",
       "  </thead>\n",
       "  <tbody>\n",
       "    <tr>\n",
       "      <th>0</th>\n",
       "      <td>0</td>\n",
       "      <td>1467810369</td>\n",
       "      <td>Mon Apr 06 22:19:45 PDT 2009</td>\n",
       "      <td>NO_QUERY</td>\n",
       "      <td>_TheSpecialOne_</td>\n",
       "      <td>- Awww, that's a bummer. You shoulda got David...</td>\n",
       "    </tr>\n",
       "    <tr>\n",
       "      <th>1</th>\n",
       "      <td>0</td>\n",
       "      <td>1467810672</td>\n",
       "      <td>Mon Apr 06 22:19:49 PDT 2009</td>\n",
       "      <td>NO_QUERY</td>\n",
       "      <td>scotthamilton</td>\n",
       "      <td>is upset that he can't update his Facebook by ...</td>\n",
       "    </tr>\n",
       "    <tr>\n",
       "      <th>2</th>\n",
       "      <td>0</td>\n",
       "      <td>1467810917</td>\n",
       "      <td>Mon Apr 06 22:19:53 PDT 2009</td>\n",
       "      <td>NO_QUERY</td>\n",
       "      <td>mattycus</td>\n",
       "      <td>I dived many time for the ball. Managed to sav...</td>\n",
       "    </tr>\n",
       "    <tr>\n",
       "      <th>3</th>\n",
       "      <td>0</td>\n",
       "      <td>1467811184</td>\n",
       "      <td>Mon Apr 06 22:19:57 PDT 2009</td>\n",
       "      <td>NO_QUERY</td>\n",
       "      <td>ElleCTF</td>\n",
       "      <td>my whole body feel itchy and like it on fire</td>\n",
       "    </tr>\n",
       "    <tr>\n",
       "      <th>4</th>\n",
       "      <td>0</td>\n",
       "      <td>1467811193</td>\n",
       "      <td>Mon Apr 06 22:19:57 PDT 2009</td>\n",
       "      <td>NO_QUERY</td>\n",
       "      <td>Karoli</td>\n",
       "      <td>no, it's not behaving at all. i'm mad. why am ...</td>\n",
       "    </tr>\n",
       "  </tbody>\n",
       "</table>\n",
       "</div>"
      ],
      "text/plain": [
       "   y          ID                          date     query             name  \\\n",
       "0  0  1467810369  Mon Apr 06 22:19:45 PDT 2009  NO_QUERY  _TheSpecialOne_   \n",
       "1  0  1467810672  Mon Apr 06 22:19:49 PDT 2009  NO_QUERY    scotthamilton   \n",
       "2  0  1467810917  Mon Apr 06 22:19:53 PDT 2009  NO_QUERY         mattycus   \n",
       "3  0  1467811184  Mon Apr 06 22:19:57 PDT 2009  NO_QUERY          ElleCTF   \n",
       "4  0  1467811193  Mon Apr 06 22:19:57 PDT 2009  NO_QUERY           Karoli   \n",
       "\n",
       "                                               tweet  \n",
       "0  - Awww, that's a bummer. You shoulda got David...  \n",
       "1  is upset that he can't update his Facebook by ...  \n",
       "2  I dived many time for the ball. Managed to sav...  \n",
       "3       my whole body feel itchy and like it on fire  \n",
       "4  no, it's not behaving at all. i'm mad. why am ...  "
      ]
     },
     "execution_count": 13,
     "metadata": {},
     "output_type": "execute_result"
    }
   ],
   "source": [
    "df.head()"
   ]
  },
  {
   "cell_type": "code",
   "execution_count": 14,
   "id": "0d2c60d3",
   "metadata": {
    "execution": {
     "iopub.execute_input": "2023-05-14T15:49:15.980025Z",
     "iopub.status.busy": "2023-05-14T15:49:15.979615Z",
     "iopub.status.idle": "2023-05-14T15:49:15.999988Z",
     "shell.execute_reply": "2023-05-14T15:49:15.998890Z"
    },
    "papermill": {
     "duration": 0.035794,
     "end_time": "2023-05-14T15:49:16.002247",
     "exception": false,
     "start_time": "2023-05-14T15:49:15.966453",
     "status": "completed"
    },
    "tags": []
   },
   "outputs": [
    {
     "data": {
      "text/plain": [
       "array([0, 4])"
      ]
     },
     "execution_count": 14,
     "metadata": {},
     "output_type": "execute_result"
    }
   ],
   "source": [
    "x = df['tweet']\n",
    "y = df['y']\n",
    "y.unique()"
   ]
  },
  {
   "cell_type": "code",
   "execution_count": 15,
   "id": "10c2a623",
   "metadata": {
    "execution": {
     "iopub.execute_input": "2023-05-14T15:49:16.028612Z",
     "iopub.status.busy": "2023-05-14T15:49:16.027567Z",
     "iopub.status.idle": "2023-05-14T15:49:16.935490Z",
     "shell.execute_reply": "2023-05-14T15:49:16.934344Z"
    },
    "papermill": {
     "duration": 0.923535,
     "end_time": "2023-05-14T15:49:16.937999",
     "exception": false,
     "start_time": "2023-05-14T15:49:16.014464",
     "status": "completed"
    },
    "tags": []
   },
   "outputs": [
    {
     "name": "stdout",
     "output_type": "stream",
     "text": [
      "[nltk_data] Downloading package omw-1.4 to /usr/share/nltk_data...\n",
      "[nltk_data] Downloading package wordnet to /usr/share/nltk_data...\n",
      "[nltk_data]   Package wordnet is already up-to-date!\n",
      "[nltk_data] Downloading package wordnet2022 to /usr/share/nltk_data...\n",
      "[nltk_data]   Unzipping corpora/wordnet2022.zip.\n"
     ]
    },
    {
     "data": {
      "text/plain": [
       "True"
      ]
     },
     "execution_count": 15,
     "metadata": {},
     "output_type": "execute_result"
    }
   ],
   "source": [
    "nltk.download('omw-1.4')\n",
    "nltk.download('wordnet')\n",
    "nltk.download('wordnet2022')"
   ]
  },
  {
   "cell_type": "code",
   "execution_count": 16,
   "id": "31e96c90",
   "metadata": {
    "execution": {
     "iopub.execute_input": "2023-05-14T15:49:16.964802Z",
     "iopub.status.busy": "2023-05-14T15:49:16.964364Z",
     "iopub.status.idle": "2023-05-14T15:49:16.982141Z",
     "shell.execute_reply": "2023-05-14T15:49:16.981036Z"
    },
    "papermill": {
     "duration": 0.034369,
     "end_time": "2023-05-14T15:49:16.984993",
     "exception": false,
     "start_time": "2023-05-14T15:49:16.950624",
     "status": "completed"
    },
    "tags": []
   },
   "outputs": [],
   "source": [
    "from sklearn.naive_bayes import MultinomialNB\n",
    "from sklearn.feature_extraction.text import CountVectorizer"
   ]
  },
  {
   "cell_type": "code",
   "execution_count": 17,
   "id": "d2f71364",
   "metadata": {
    "execution": {
     "iopub.execute_input": "2023-05-14T15:49:17.012443Z",
     "iopub.status.busy": "2023-05-14T15:49:17.011493Z",
     "iopub.status.idle": "2023-05-14T15:49:17.429662Z",
     "shell.execute_reply": "2023-05-14T15:49:17.428675Z"
    },
    "papermill": {
     "duration": 0.43513,
     "end_time": "2023-05-14T15:49:17.432577",
     "exception": false,
     "start_time": "2023-05-14T15:49:16.997447",
     "status": "completed"
    },
    "tags": []
   },
   "outputs": [],
   "source": [
    "from sklearn.model_selection import train_test_split\n",
    "x_train, x_test,y_train,y_test = train_test_split(df['tweet'],df['y'])"
   ]
  },
  {
   "cell_type": "code",
   "execution_count": 18,
   "id": "8d2a2703",
   "metadata": {
    "execution": {
     "iopub.execute_input": "2023-05-14T15:49:17.459991Z",
     "iopub.status.busy": "2023-05-14T15:49:17.459608Z",
     "iopub.status.idle": "2023-05-14T15:49:17.515727Z",
     "shell.execute_reply": "2023-05-14T15:49:17.514580Z"
    },
    "papermill": {
     "duration": 0.073412,
     "end_time": "2023-05-14T15:49:17.518477",
     "exception": false,
     "start_time": "2023-05-14T15:49:17.445065",
     "status": "completed"
    },
    "tags": []
   },
   "outputs": [
    {
     "data": {
      "text/html": [
       "<div>\n",
       "<style scoped>\n",
       "    .dataframe tbody tr th:only-of-type {\n",
       "        vertical-align: middle;\n",
       "    }\n",
       "\n",
       "    .dataframe tbody tr th {\n",
       "        vertical-align: top;\n",
       "    }\n",
       "\n",
       "    .dataframe thead th {\n",
       "        text-align: right;\n",
       "    }\n",
       "</style>\n",
       "<table border=\"1\" class=\"dataframe\">\n",
       "  <thead>\n",
       "    <tr style=\"text-align: right;\">\n",
       "      <th></th>\n",
       "      <th>tweet</th>\n",
       "      <th>y</th>\n",
       "    </tr>\n",
       "  </thead>\n",
       "  <tbody>\n",
       "    <tr>\n",
       "      <th>1529171</th>\n",
       "      <td>also have a theory that the elevator ride up t...</td>\n",
       "      <td>4</td>\n",
       "    </tr>\n",
       "    <tr>\n",
       "      <th>447514</th>\n",
       "      <td>he died?! Omg</td>\n",
       "      <td>0</td>\n",
       "    </tr>\n",
       "    <tr>\n",
       "      <th>1170980</th>\n",
       "      <td>, you are right, they were very humble. A real...</td>\n",
       "      <td>4</td>\n",
       "    </tr>\n",
       "    <tr>\n",
       "      <th>1456657</th>\n",
       "      <td>is having fun with chris at the comedy gala th...</td>\n",
       "      <td>4</td>\n",
       "    </tr>\n",
       "    <tr>\n",
       "      <th>269720</th>\n",
       "      <td>It's not even dead yet, thats the worst part.....</td>\n",
       "      <td>0</td>\n",
       "    </tr>\n",
       "  </tbody>\n",
       "</table>\n",
       "</div>"
      ],
      "text/plain": [
       "                                                     tweet  y\n",
       "1529171  also have a theory that the elevator ride up t...  4\n",
       "447514                                       he died?! Omg  0\n",
       "1170980  , you are right, they were very humble. A real...  4\n",
       "1456657  is having fun with chris at the comedy gala th...  4\n",
       "269720   It's not even dead yet, thats the worst part.....  0"
      ]
     },
     "execution_count": 18,
     "metadata": {},
     "output_type": "execute_result"
    }
   ],
   "source": [
    "train = pd.DataFrame(x_train, columns=['tweet'])\n",
    "train['y']=y_train\n",
    "train.head()"
   ]
  },
  {
   "cell_type": "code",
   "execution_count": 19,
   "id": "17b6020e",
   "metadata": {
    "execution": {
     "iopub.execute_input": "2023-05-14T15:49:17.545927Z",
     "iopub.status.busy": "2023-05-14T15:49:17.545531Z",
     "iopub.status.idle": "2023-05-14T15:49:17.558696Z",
     "shell.execute_reply": "2023-05-14T15:49:17.557690Z"
    },
    "papermill": {
     "duration": 0.029874,
     "end_time": "2023-05-14T15:49:17.561097",
     "exception": false,
     "start_time": "2023-05-14T15:49:17.531223",
     "status": "completed"
    },
    "tags": []
   },
   "outputs": [
    {
     "data": {
      "text/plain": [
       "array([4, 0])"
      ]
     },
     "execution_count": 19,
     "metadata": {},
     "output_type": "execute_result"
    }
   ],
   "source": [
    "train.y.unique()"
   ]
  },
  {
   "cell_type": "code",
   "execution_count": 20,
   "id": "b50d7e25",
   "metadata": {
    "execution": {
     "iopub.execute_input": "2023-05-14T15:49:17.588749Z",
     "iopub.status.busy": "2023-05-14T15:49:17.588294Z",
     "iopub.status.idle": "2023-05-14T15:49:17.594827Z",
     "shell.execute_reply": "2023-05-14T15:49:17.593822Z"
    },
    "papermill": {
     "duration": 0.02341,
     "end_time": "2023-05-14T15:49:17.597251",
     "exception": false,
     "start_time": "2023-05-14T15:49:17.573841",
     "status": "completed"
    },
    "tags": []
   },
   "outputs": [
    {
     "data": {
      "text/plain": [
       "1200000"
      ]
     },
     "execution_count": 20,
     "metadata": {},
     "output_type": "execute_result"
    }
   ],
   "source": [
    "len(x_train)"
   ]
  },
  {
   "cell_type": "code",
   "execution_count": 21,
   "id": "7c48fdc3",
   "metadata": {
    "execution": {
     "iopub.execute_input": "2023-05-14T15:49:17.625951Z",
     "iopub.status.busy": "2023-05-14T15:49:17.624774Z",
     "iopub.status.idle": "2023-05-14T15:49:17.630254Z",
     "shell.execute_reply": "2023-05-14T15:49:17.629507Z"
    },
    "papermill": {
     "duration": 0.022057,
     "end_time": "2023-05-14T15:49:17.632502",
     "exception": false,
     "start_time": "2023-05-14T15:49:17.610445",
     "status": "completed"
    },
    "tags": []
   },
   "outputs": [],
   "source": [
    "count_vec = CountVectorizer(max_features = 100000,ngram_range = (1,3))"
   ]
  },
  {
   "cell_type": "code",
   "execution_count": 22,
   "id": "f3fa72a1",
   "metadata": {
    "execution": {
     "iopub.execute_input": "2023-05-14T15:49:17.660939Z",
     "iopub.status.busy": "2023-05-14T15:49:17.659885Z",
     "iopub.status.idle": "2023-05-14T15:51:27.198702Z",
     "shell.execute_reply": "2023-05-14T15:51:27.197517Z"
    },
    "papermill": {
     "duration": 129.568202,
     "end_time": "2023-05-14T15:51:27.214053",
     "exception": false,
     "start_time": "2023-05-14T15:49:17.645851",
     "status": "completed"
    },
    "tags": []
   },
   "outputs": [
    {
     "data": {
      "text/plain": [
       "<1200000x100000 sparse matrix of type '<class 'numpy.int64'>'\n",
       "\twith 22659716 stored elements in Compressed Sparse Row format>"
      ]
     },
     "execution_count": 22,
     "metadata": {},
     "output_type": "execute_result"
    }
   ],
   "source": [
    "x_training = count_vec.fit_transform(x_train)\n",
    "x_training"
   ]
  },
  {
   "cell_type": "code",
   "execution_count": 23,
   "id": "a9ff922a",
   "metadata": {
    "execution": {
     "iopub.execute_input": "2023-05-14T15:51:27.248043Z",
     "iopub.status.busy": "2023-05-14T15:51:27.247224Z",
     "iopub.status.idle": "2023-05-14T15:51:27.454736Z",
     "shell.execute_reply": "2023-05-14T15:51:27.453617Z"
    },
    "papermill": {
     "duration": 0.228981,
     "end_time": "2023-05-14T15:51:27.457210",
     "exception": false,
     "start_time": "2023-05-14T15:51:27.228229",
     "status": "completed"
    },
    "tags": []
   },
   "outputs": [
    {
     "data": {
      "text/plain": [
       "array(['00', '00 am', '00 and', '00 in', '00 in the', '00 pm', '000',\n",
       "       '000 000', '000 contacts', '000 contacts check', '000 follower',\n",
       "       '000 followers', '000th', '00am', '00pm', '01', '02', '03', '04',\n",
       "       '05', '06', '07', '08', '09', '09 is', '10', '10 00', '10 000',\n",
       "       '10 10', '10 15', '10 30', '10 30am', '10 30pm', '10 45', '10 am',\n",
       "       '10 and', '10 at', '10 buck', '10 but', '10 cat', '10 day',\n",
       "       '10 days', '10 for', '10 hour', '10 hour of', '10 hr', '10 in',\n",
       "       '10 is', '10 mile', '10 min', '10 min ago', '10 mins', '10 minute',\n",
       "       '10 minute to', '10 minutes', '10 month', '10 more', '10 more day',\n",
       "       '10 of', '10 off', '10 on', '10 or', '10 people', '10 pm', '10 so',\n",
       "       '10 then', '10 thing', '10 time', '10 to', '10 year',\n",
       "       '10 year ago', '10 year old', '10 years', '10 yr', '100',\n",
       "       '100 000', '100 000 contacts', '100 degree', '100 follower',\n",
       "       '100 follower day', '100 followers', '100 for', '100 in', '100 on',\n",
       "       '100 sure', '100 time', '1000', '1000th', '100th', '100th tweet',\n",
       "       '100th update', '101', '102', '103', '1030', '104', '105', '106',\n",
       "       '107', '108'], dtype=object)"
      ]
     },
     "execution_count": 23,
     "metadata": {},
     "output_type": "execute_result"
    }
   ],
   "source": [
    "count_vec.get_feature_names_out()[0:100]"
   ]
  },
  {
   "cell_type": "code",
   "execution_count": 24,
   "id": "d7d02d06",
   "metadata": {
    "execution": {
     "iopub.execute_input": "2023-05-14T15:51:27.485789Z",
     "iopub.status.busy": "2023-05-14T15:51:27.485317Z",
     "iopub.status.idle": "2023-05-14T15:51:48.794092Z",
     "shell.execute_reply": "2023-05-14T15:51:48.793042Z"
    },
    "papermill": {
     "duration": 21.325757,
     "end_time": "2023-05-14T15:51:48.796493",
     "exception": false,
     "start_time": "2023-05-14T15:51:27.470736",
     "status": "completed"
    },
    "tags": []
   },
   "outputs": [
    {
     "data": {
      "text/plain": [
       "<400000x100000 sparse matrix of type '<class 'numpy.int64'>'\n",
       "\twith 7522616 stored elements in Compressed Sparse Row format>"
      ]
     },
     "execution_count": 24,
     "metadata": {},
     "output_type": "execute_result"
    }
   ],
   "source": [
    "x_testing = count_vec.transform(x_test)\n",
    "x_testing"
   ]
  },
  {
   "cell_type": "code",
   "execution_count": 25,
   "id": "86285fab",
   "metadata": {
    "execution": {
     "iopub.execute_input": "2023-05-14T15:51:48.824799Z",
     "iopub.status.busy": "2023-05-14T15:51:48.824402Z",
     "iopub.status.idle": "2023-05-14T15:51:48.829258Z",
     "shell.execute_reply": "2023-05-14T15:51:48.828196Z"
    },
    "papermill": {
     "duration": 0.021626,
     "end_time": "2023-05-14T15:51:48.831519",
     "exception": false,
     "start_time": "2023-05-14T15:51:48.809893",
     "status": "completed"
    },
    "tags": []
   },
   "outputs": [],
   "source": [
    "mnb = MultinomialNB()"
   ]
  },
  {
   "cell_type": "code",
   "execution_count": 26,
   "id": "653c219a",
   "metadata": {
    "execution": {
     "iopub.execute_input": "2023-05-14T15:51:48.859510Z",
     "iopub.status.busy": "2023-05-14T15:51:48.859095Z",
     "iopub.status.idle": "2023-05-14T15:51:49.283280Z",
     "shell.execute_reply": "2023-05-14T15:51:49.282049Z"
    },
    "papermill": {
     "duration": 0.441987,
     "end_time": "2023-05-14T15:51:49.286476",
     "exception": false,
     "start_time": "2023-05-14T15:51:48.844489",
     "status": "completed"
    },
    "tags": []
   },
   "outputs": [
    {
     "data": {
      "text/html": [
       "<style>#sk-container-id-1 {color: black;background-color: white;}#sk-container-id-1 pre{padding: 0;}#sk-container-id-1 div.sk-toggleable {background-color: white;}#sk-container-id-1 label.sk-toggleable__label {cursor: pointer;display: block;width: 100%;margin-bottom: 0;padding: 0.3em;box-sizing: border-box;text-align: center;}#sk-container-id-1 label.sk-toggleable__label-arrow:before {content: \"▸\";float: left;margin-right: 0.25em;color: #696969;}#sk-container-id-1 label.sk-toggleable__label-arrow:hover:before {color: black;}#sk-container-id-1 div.sk-estimator:hover label.sk-toggleable__label-arrow:before {color: black;}#sk-container-id-1 div.sk-toggleable__content {max-height: 0;max-width: 0;overflow: hidden;text-align: left;background-color: #f0f8ff;}#sk-container-id-1 div.sk-toggleable__content pre {margin: 0.2em;color: black;border-radius: 0.25em;background-color: #f0f8ff;}#sk-container-id-1 input.sk-toggleable__control:checked~div.sk-toggleable__content {max-height: 200px;max-width: 100%;overflow: auto;}#sk-container-id-1 input.sk-toggleable__control:checked~label.sk-toggleable__label-arrow:before {content: \"▾\";}#sk-container-id-1 div.sk-estimator input.sk-toggleable__control:checked~label.sk-toggleable__label {background-color: #d4ebff;}#sk-container-id-1 div.sk-label input.sk-toggleable__control:checked~label.sk-toggleable__label {background-color: #d4ebff;}#sk-container-id-1 input.sk-hidden--visually {border: 0;clip: rect(1px 1px 1px 1px);clip: rect(1px, 1px, 1px, 1px);height: 1px;margin: -1px;overflow: hidden;padding: 0;position: absolute;width: 1px;}#sk-container-id-1 div.sk-estimator {font-family: monospace;background-color: #f0f8ff;border: 1px dotted black;border-radius: 0.25em;box-sizing: border-box;margin-bottom: 0.5em;}#sk-container-id-1 div.sk-estimator:hover {background-color: #d4ebff;}#sk-container-id-1 div.sk-parallel-item::after {content: \"\";width: 100%;border-bottom: 1px solid gray;flex-grow: 1;}#sk-container-id-1 div.sk-label:hover label.sk-toggleable__label {background-color: #d4ebff;}#sk-container-id-1 div.sk-serial::before {content: \"\";position: absolute;border-left: 1px solid gray;box-sizing: border-box;top: 0;bottom: 0;left: 50%;z-index: 0;}#sk-container-id-1 div.sk-serial {display: flex;flex-direction: column;align-items: center;background-color: white;padding-right: 0.2em;padding-left: 0.2em;position: relative;}#sk-container-id-1 div.sk-item {position: relative;z-index: 1;}#sk-container-id-1 div.sk-parallel {display: flex;align-items: stretch;justify-content: center;background-color: white;position: relative;}#sk-container-id-1 div.sk-item::before, #sk-container-id-1 div.sk-parallel-item::before {content: \"\";position: absolute;border-left: 1px solid gray;box-sizing: border-box;top: 0;bottom: 0;left: 50%;z-index: -1;}#sk-container-id-1 div.sk-parallel-item {display: flex;flex-direction: column;z-index: 1;position: relative;background-color: white;}#sk-container-id-1 div.sk-parallel-item:first-child::after {align-self: flex-end;width: 50%;}#sk-container-id-1 div.sk-parallel-item:last-child::after {align-self: flex-start;width: 50%;}#sk-container-id-1 div.sk-parallel-item:only-child::after {width: 0;}#sk-container-id-1 div.sk-dashed-wrapped {border: 1px dashed gray;margin: 0 0.4em 0.5em 0.4em;box-sizing: border-box;padding-bottom: 0.4em;background-color: white;}#sk-container-id-1 div.sk-label label {font-family: monospace;font-weight: bold;display: inline-block;line-height: 1.2em;}#sk-container-id-1 div.sk-label-container {text-align: center;}#sk-container-id-1 div.sk-container {/* jupyter's `normalize.less` sets `[hidden] { display: none; }` but bootstrap.min.css set `[hidden] { display: none !important; }` so we also need the `!important` here to be able to override the default hidden behavior on the sphinx rendered scikit-learn.org. See: https://github.com/scikit-learn/scikit-learn/issues/21755 */display: inline-block !important;position: relative;}#sk-container-id-1 div.sk-text-repr-fallback {display: none;}</style><div id=\"sk-container-id-1\" class=\"sk-top-container\"><div class=\"sk-text-repr-fallback\"><pre>MultinomialNB()</pre><b>In a Jupyter environment, please rerun this cell to show the HTML representation or trust the notebook. <br />On GitHub, the HTML representation is unable to render, please try loading this page with nbviewer.org.</b></div><div class=\"sk-container\" hidden><div class=\"sk-item\"><div class=\"sk-estimator sk-toggleable\"><input class=\"sk-toggleable__control sk-hidden--visually\" id=\"sk-estimator-id-1\" type=\"checkbox\" checked><label for=\"sk-estimator-id-1\" class=\"sk-toggleable__label sk-toggleable__label-arrow\">MultinomialNB</label><div class=\"sk-toggleable__content\"><pre>MultinomialNB()</pre></div></div></div></div></div>"
      ],
      "text/plain": [
       "MultinomialNB()"
      ]
     },
     "execution_count": 26,
     "metadata": {},
     "output_type": "execute_result"
    }
   ],
   "source": [
    "mnb.fit(x_training,y_train)"
   ]
  },
  {
   "cell_type": "code",
   "execution_count": 27,
   "id": "314745b1",
   "metadata": {
    "execution": {
     "iopub.execute_input": "2023-05-14T15:51:49.319022Z",
     "iopub.status.busy": "2023-05-14T15:51:49.317970Z",
     "iopub.status.idle": "2023-05-14T15:51:49.415639Z",
     "shell.execute_reply": "2023-05-14T15:51:49.414498Z"
    },
    "papermill": {
     "duration": 0.115502,
     "end_time": "2023-05-14T15:51:49.418350",
     "exception": false,
     "start_time": "2023-05-14T15:51:49.302848",
     "status": "completed"
    },
    "tags": []
   },
   "outputs": [],
   "source": [
    "y_pred = mnb.predict(x_testing)"
   ]
  },
  {
   "cell_type": "code",
   "execution_count": 28,
   "id": "a90baf02",
   "metadata": {
    "execution": {
     "iopub.execute_input": "2023-05-14T15:51:49.447470Z",
     "iopub.status.busy": "2023-05-14T15:51:49.447064Z",
     "iopub.status.idle": "2023-05-14T15:51:49.572803Z",
     "shell.execute_reply": "2023-05-14T15:51:49.571708Z"
    },
    "papermill": {
     "duration": 0.142838,
     "end_time": "2023-05-14T15:51:49.575049",
     "exception": false,
     "start_time": "2023-05-14T15:51:49.432211",
     "status": "completed"
    },
    "tags": []
   },
   "outputs": [
    {
     "data": {
      "text/plain": [
       "0.7971925"
      ]
     },
     "execution_count": 28,
     "metadata": {},
     "output_type": "execute_result"
    }
   ],
   "source": [
    "mnb.score(x_testing,y_test)"
   ]
  },
  {
   "cell_type": "code",
   "execution_count": 29,
   "id": "548a06ce",
   "metadata": {
    "execution": {
     "iopub.execute_input": "2023-05-14T15:51:49.607386Z",
     "iopub.status.busy": "2023-05-14T15:51:49.607003Z",
     "iopub.status.idle": "2023-05-14T15:51:49.611280Z",
     "shell.execute_reply": "2023-05-14T15:51:49.610461Z"
    },
    "papermill": {
     "duration": 0.02449,
     "end_time": "2023-05-14T15:51:49.613531",
     "exception": false,
     "start_time": "2023-05-14T15:51:49.589041",
     "status": "completed"
    },
    "tags": []
   },
   "outputs": [],
   "source": [
    "import numpy as np"
   ]
  },
  {
   "cell_type": "code",
   "execution_count": 30,
   "id": "7d8c69d2",
   "metadata": {
    "execution": {
     "iopub.execute_input": "2023-05-14T15:51:49.642886Z",
     "iopub.status.busy": "2023-05-14T15:51:49.642494Z",
     "iopub.status.idle": "2023-05-14T15:51:49.648748Z",
     "shell.execute_reply": "2023-05-14T15:51:49.647803Z"
    },
    "papermill": {
     "duration": 0.023488,
     "end_time": "2023-05-14T15:51:49.650945",
     "exception": false,
     "start_time": "2023-05-14T15:51:49.627457",
     "status": "completed"
    },
    "tags": []
   },
   "outputs": [],
   "source": [
    "def test_Sentence(sent):\n",
    "    test_sent = count_vec.transform([sent])\n",
    "    c= mnb.predict(test_sent)\n",
    "    if c==0:\n",
    "        next_1 = np.random.choice(train[train.y== 0 ]['tweet']) \n",
    "    elif c==4:\n",
    "        next_1 = np.random.choice(train[train.y== 0 ]['tweet'])\n",
    "    sentence = sent+ ' ' + next_1\n",
    "    \n",
    "    return sentence"
   ]
  },
  {
   "cell_type": "code",
   "execution_count": 31,
   "id": "614dd6c1",
   "metadata": {
    "execution": {
     "iopub.execute_input": "2023-05-14T15:51:49.680958Z",
     "iopub.status.busy": "2023-05-14T15:51:49.680250Z",
     "iopub.status.idle": "2023-05-14T15:51:49.754602Z",
     "shell.execute_reply": "2023-05-14T15:51:49.753134Z"
    },
    "papermill": {
     "duration": 0.091981,
     "end_time": "2023-05-14T15:51:49.756886",
     "exception": false,
     "start_time": "2023-05-14T15:51:49.664905",
     "status": "completed"
    },
    "tags": []
   },
   "outputs": [
    {
     "name": "stdout",
     "output_type": "stream",
     "text": [
      "I am very happy today Ok I just had the best walk of my life... But now I am all itchy\n"
     ]
    }
   ],
   "source": [
    "a= 'I am very happy today'\n",
    "print(test_Sentence(a))"
   ]
  },
  {
   "cell_type": "code",
   "execution_count": 32,
   "id": "0f75bbea",
   "metadata": {
    "execution": {
     "iopub.execute_input": "2023-05-14T15:51:49.786658Z",
     "iopub.status.busy": "2023-05-14T15:51:49.786258Z",
     "iopub.status.idle": "2023-05-14T15:51:49.854575Z",
     "shell.execute_reply": "2023-05-14T15:51:49.853454Z"
    },
    "papermill": {
     "duration": 0.086261,
     "end_time": "2023-05-14T15:51:49.857086",
     "exception": false,
     "start_time": "2023-05-14T15:51:49.770825",
     "status": "completed"
    },
    "tags": []
   },
   "outputs": [
    {
     "data": {
      "text/plain": [
       "\"today i am free and you can come to my house assuming i wont get to see u before u leave...i'll miss u punkin : *\""
      ]
     },
     "execution_count": 32,
     "metadata": {},
     "output_type": "execute_result"
    }
   ],
   "source": [
    "b= 'today i am free and you can come to my house'\n",
    "test_Sentence(b)"
   ]
  },
  {
   "cell_type": "code",
   "execution_count": null,
   "id": "10de8712",
   "metadata": {
    "papermill": {
     "duration": 0.013345,
     "end_time": "2023-05-14T15:51:49.884484",
     "exception": false,
     "start_time": "2023-05-14T15:51:49.871139",
     "status": "completed"
    },
    "tags": []
   },
   "outputs": [],
   "source": []
  }
 ],
 "metadata": {
  "kernelspec": {
   "display_name": "Python 3",
   "language": "python",
   "name": "python3"
  },
  "language_info": {
   "codemirror_mode": {
    "name": "ipython",
    "version": 3
   },
   "file_extension": ".py",
   "mimetype": "text/x-python",
   "name": "python",
   "nbconvert_exporter": "python",
   "pygments_lexer": "ipython3",
   "version": "3.10.10"
  },
  "papermill": {
   "default_parameters": {},
   "duration": 685.183496,
   "end_time": "2023-05-14T15:51:52.621202",
   "environment_variables": {},
   "exception": null,
   "input_path": "__notebook__.ipynb",
   "output_path": "__notebook__.ipynb",
   "parameters": {},
   "start_time": "2023-05-14T15:40:27.437706",
   "version": "2.4.0"
  }
 },
 "nbformat": 4,
 "nbformat_minor": 5
}
